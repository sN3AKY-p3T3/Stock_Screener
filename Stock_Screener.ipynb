{
  "nbformat": 4,
  "nbformat_minor": 0,
  "metadata": {
    "colab": {
      "provenance": []
    },
    "kernelspec": {
      "name": "python3",
      "display_name": "Python 3"
    },
    "language_info": {
      "name": "python"
    }
  },
  "cells": [
    {
      "cell_type": "code",
      "execution_count": null,
      "metadata": {
        "colab": {
          "base_uri": "https://localhost:8080/"
        },
        "id": "Ssj2KJcLvrqE",
        "outputId": "9651eb96-9c9b-402c-ecee-3bc308d85a05"
      },
      "outputs": [
        {
          "output_type": "stream",
          "name": "stdout",
          "text": [
            "Requirement already satisfied: retrying in /usr/local/lib/python3.10/dist-packages (1.3.4)\n",
            "Requirement already satisfied: six>=1.7.0 in /usr/local/lib/python3.10/dist-packages (from retrying) (1.16.0)\n"
          ]
        }
      ],
      "source": [
        "!pip3 install retrying\n",
        "\n",
        "import asyncio\n",
        "import aiohttp\n",
        "import requests\n",
        "from bs4 import BeautifulSoup\n",
        "import pandas as pd\n",
        "import nest_asyncio\n",
        "from retrying import retry\n",
        "import numpy as np\n",
        "\n",
        "url =\"https://www.moneycontrol.com/india/stockpricequote/finance-term-lending-institutions/powerfinancecorporation/PFC02\"\n",
        "headers = {\n",
        "    \"User-Agent\": \"Mozilla/5.0 (Windows NT 10.0; Win64; x64) AppleWebKit/537.36 (KHTML, like Gecko) Chrome/96.0.4664.110 Safari/537.36\"}\n",
        "\n",
        "page=requests.get(url,headers)\n",
        "soup=BeautifulSoup(page.text,'html.parser')\n",
        "\n",
        "column_names=['Company','LTP']\n",
        "for oview_div in soup.find('div',{'class':'nsestock_overview bsestock_overview'}).find_all('div',{'class':'oview_table'}):\n",
        "  for row in oview_div.find('tbody').find_all('tr'):\n",
        "    label=row.find_all('td')[0].text.strip()\n",
        "    label='VWAP' if 'VWAP' in label else label\n",
        "    column_names.append(label)\n",
        "\n",
        "\n",
        "nest_asyncio.apply()\n",
        "\n",
        "main_url = \"https://www.moneycontrol.com/india/stockpricequote/\"\n",
        "headers = {\n",
        "    \"User-Agent\": \"Mozilla/5.0 (Windows NT 10.0; Win64; x64) AppleWebKit/537.36 (KHTML, like Gecko) Chrome/96.0.4664.110 Safari/537.36\"\n",
        "}\n",
        "\n",
        "Data=[]\n",
        "\n",
        "async def fetch_company_data(session, url):\n",
        "  count=2\n",
        "  d={}\n",
        "  async with session.get(url, headers=headers) as response:\n",
        "      html = await response.text()\n",
        "      soup = BeautifulSoup(html, \"html.parser\")\n",
        "      ltp_obj = soup.find(\"div\", {\"class\": \"inprice1 nsecp\"})\n",
        "      d[column_names[1]]=ltp_obj['rel']\n",
        "      for oview_div in soup.find('div',{'class':'nsestock_overview bsestock_overview'}).find_all('div',{'class':'oview_table'}):\n",
        "        for row in oview_div.find('tbody').find_all('tr'):\n",
        "          value=row.find_all('td')[1].text.strip()\n",
        "          if row.find_all('td')[0].text.strip()=='Beta':\n",
        "            value=value.split('\\n')[0]\n",
        "          value=value.replace('\\n','')\n",
        "          value=value.replace(',','')\n",
        "          value=float(value) if ('\\n'not in value) and ('(' not in value) and ('-' not in value) else value\n",
        "          d[column_names[count]]=value\n",
        "          count+=1\n",
        "      #oview_obj=soup.find_all(\"div\",{\"class\":})\n",
        "      return d\n",
        "\n",
        "@retry(stop_max_attempt_number=3, wait_fixed=2000)  # Retry up to 3 times with a 2-second delay\n",
        "async def fetch_with_retry(session, url):\n",
        "  return await fetch_company_data(session, url)\n",
        "\n",
        "async def main():\n",
        "  async with aiohttp.ClientSession() as session:\n",
        "      parentpage = await session.get(main_url)\n",
        "      parent_soup = BeautifulSoup(await parentpage.text(), \"html.parser\")\n",
        "\n",
        "      co_names = [a.get_text() for a in parent_soup.find_all(\"a\", {\"class\": \"bl_12\"})]\n",
        "      url_list = [link['href'] for link in parent_soup.find_all('a', class_='bl_12')]\n",
        "\n",
        "      ltp_data = {}\n",
        "      Data=[]\n",
        "\n",
        "      for name,url in zip(co_names,url_list):\n",
        "          try:\n",
        "              d = await fetch_with_retry(session, url)\n",
        "              d[column_names[0]]=name\n",
        "              Data.append(d)\n",
        "          except Exception as e:\n",
        "              print(f\"Error fetching data for URL: {url}, Error: {e}\")\n",
        "      return Data\n",
        "\n",
        "all_data_list= asyncio.run(main())\n",
        "df=pd.DataFrame(all_data_list)\n",
        "df=df[column_names]\n",
        "\n",
        "all_data_np = df.to_numpy()"
      ]
    },
    {
      "cell_type": "code",
      "source": [
        "small_data_np=[i for i in all_data_np if float(i[1])<100 ]\n",
        "med_data_np=[i for i in all_data_np if 100<float(i[1])<800 ]\n",
        "large_data_np=[i for i in all_data_np if float(i[1])>800 ]\n",
        "\n",
        "\n",
        "co_names=np.array([i[0] for i in all_data_np])\n",
        "co_price=[float(i[1][0]) for i in all_data_np]\n",
        "\n",
        "def makefile(arrays,filename):\n",
        "  import csv\n",
        "  csv_file_path=f\"{filename}.csv\"\n",
        "  with open (csv_file_path,'w',newline='') as csv_file:\n",
        "    writer =csv.writer(csv_file)\n",
        "    writer.writerow(column_names)\n",
        "    for i in arrays:\n",
        "      writer.writerow(i)\n",
        "\n",
        "makefile(small_data_np,'small')\n",
        "makefile(med_data_np,'medium')\n",
        "makefile(large_data_np,'large')\n",
        "makefile(all_data_np,'all_data')"
      ],
      "metadata": {
        "id": "zANhrVxswBrD"
      },
      "execution_count": null,
      "outputs": []
    }
  ]
}